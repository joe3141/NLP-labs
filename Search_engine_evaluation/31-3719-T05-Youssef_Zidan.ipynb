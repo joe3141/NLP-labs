{
 "cells": [
  {
   "cell_type": "markdown",
   "metadata": {},
   "source": [
    "## Imports and I/O function"
   ]
  },
  {
   "cell_type": "code",
   "execution_count": 1,
   "metadata": {
    "collapsed": true
   },
   "outputs": [],
   "source": [
    "import os\n",
    "import numpy as np\n",
    "from collections import defaultdict\n",
    "from sklearn.feature_extraction.text import TfidfVectorizer\n",
    "from scipy.spatial.distance import cdist\n",
    "\n",
    "\n",
    "def ingest_docs(path):\n",
    "\tlines = [l.strip() for l in open(path, 'r').readlines()]\n",
    "\tdocs = []\n",
    "\tacc = \"\"\n",
    "\tingest = False\n",
    "\n",
    "\tfor l in lines:\n",
    "\t\tif l.startswith(\".W\"):\n",
    "\t\t\tingest = True\n",
    "\t\t\tacc = \"\"\n",
    "\t\t\tcontinue\n",
    "\n",
    "\t\tif ingest:\n",
    "\t\t\tif l.startswith(\".I\"):\n",
    "\t\t\t\tingest = False\n",
    "\t\t\t\tdocs.append(acc)\n",
    "\t\t\telse:\n",
    "\t\t\t\tacc += l\n",
    "\tdocs.append(acc)\n",
    "\n",
    "\treturn docs"
   ]
  },
  {
   "cell_type": "markdown",
   "metadata": {},
   "source": [
    "## Average precision @ k function"
   ]
  },
  {
   "cell_type": "code",
   "execution_count": 2,
   "metadata": {
    "collapsed": true
   },
   "outputs": [],
   "source": [
    "def apk(ref, res, k):\n",
    "\n",
    "\tif (len(ref) == 0) or (len(res) == 0):\n",
    "\t\treturn 0.0\n",
    "\n",
    "\tif len(res) > k:\n",
    "\t\tres = res[:k]\n",
    "\n",
    "\tscore = 0.0\n",
    "\tnum_hits = 0.0\n",
    "\n",
    "\tfor i, p in enumerate(res):\n",
    "\t\tif p in ref: # Supposing there are no duplicates in res.\n",
    "\t\t\tnum_hits += 1.0\n",
    "\t\t\tscore += num_hits / (i+1.0) # Precision @ i\n",
    "\n",
    "\treturn score / min(len(ref), k)"
   ]
  },
  {
   "cell_type": "markdown",
   "metadata": {},
   "source": [
    "## Ingesting the data"
   ]
  },
  {
   "cell_type": "code",
   "execution_count": 3,
   "metadata": {
    "collapsed": true
   },
   "outputs": [],
   "source": [
    "docs = ingest_docs('cran/original/cran.all.1400')\n",
    "queries = ingest_docs('cran/original/cran.qry')\n",
    "crans = [l.strip().split() for l in open('cran/cranqrel', 'r').readlines()]"
   ]
  },
  {
   "cell_type": "markdown",
   "metadata": {},
   "source": [
    "## Transforming to tf-idf"
   ]
  },
  {
   "cell_type": "code",
   "execution_count": 63,
   "metadata": {
    "collapsed": true
   },
   "outputs": [],
   "source": [
    "vv = TfidfVectorizer(stop_words='english', sublinear_tf=True, use_idf=True)\n",
    "doc_tfidf = vv.fit_transform(docs)\n",
    "v2 = TfidfVectorizer(stop_words='english', sublinear_tf=True, use_idf=True, vocabulary=vv.vocabulary_)\n",
    "v2.fit(docs) # using lnc.ltc gave a worse map so I resorted to ltc.ltc\n",
    "query_tfidf = v2.fit_transform(queries)"
   ]
  },
  {
   "cell_type": "markdown",
   "metadata": {},
   "source": [
    "## Calculating similiarities and building a ranked index for each query"
   ]
  },
  {
   "cell_type": "code",
   "execution_count": 64,
   "metadata": {},
   "outputs": [],
   "source": [
    "# print(np.isfinite(query_tfidf.toarray()).all())\n",
    "# print(np.isfinite(doc_tfidf.toarray()).all())\n",
    "with np.errstate(invalid='ignore', divide='ignore'):\n",
    "    sims = (1 - cdist(doc_tfidf.toarray(), query_tfidf.toarray(), metric='cosine')).T # T because I want sims for every q\n",
    "# print(sims.shape)\n",
    "query_idx = [(np.argsort(sim)[::-1] + 1) for sim in sims]"
   ]
  },
  {
   "cell_type": "markdown",
   "metadata": {},
   "source": [
    "## Structuring the judging data"
   ]
  },
  {
   "cell_type": "code",
   "execution_count": 65,
   "metadata": {
    "collapsed": true
   },
   "outputs": [],
   "source": [
    "judgs = defaultdict(list)\n",
    "for j in crans:\n",
    "\tjudgs[int(j[0])].append(int(j[1]))"
   ]
  },
  {
   "cell_type": "markdown",
   "metadata": {},
   "source": [
    "## Calculating MAP"
   ]
  },
  {
   "cell_type": "code",
   "execution_count": 66,
   "metadata": {},
   "outputs": [
    {
     "name": "stdout",
     "output_type": "stream",
     "text": [
      "0.19350145401795585\n"
     ]
    }
   ],
   "source": [
    "MAP = 0.0\n",
    "\n",
    "for i in range(225):\n",
    "\tap = apk(judgs[i+1], query_idx[i], len(query_idx[i]))\n",
    "\tMAP += ap\n",
    "\n",
    "MAP /= 225.0\n",
    "\n",
    "print(MAP)"
   ]
  }
 ],
 "metadata": {
  "kernelspec": {
   "display_name": "Python 3",
   "language": "python",
   "name": "python3"
  },
  "language_info": {
   "codemirror_mode": {
    "name": "ipython",
    "version": 3
   },
   "file_extension": ".py",
   "mimetype": "text/x-python",
   "name": "python",
   "nbconvert_exporter": "python",
   "pygments_lexer": "ipython3",
   "version": "3.6.1"
  }
 },
 "nbformat": 4,
 "nbformat_minor": 2
}
