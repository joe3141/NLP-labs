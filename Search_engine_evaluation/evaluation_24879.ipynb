{
 "cells": [
  {
   "cell_type": "markdown",
   "metadata": {},
   "source": [
    "### Calculating precision, recall and fscore using the intersection/length methods"
   ]
  },
  {
   "cell_type": "code",
   "execution_count": 1,
   "metadata": {},
   "outputs": [
    {
     "name": "stdout",
     "output_type": "stream",
     "text": [
      "(0.6666666666666666, 1.0, 0.8)\n",
      "(1.0, 0.6666666666666666, 0.8)\n",
      "(0.6, 0.75, 0.6666666666666665)\n"
     ]
    }
   ],
   "source": [
    "def manual_pr_rec_f1(ref, res):\n",
    "    \n",
    "    intersect = len(set(ref).intersection(set(res)))\n",
    "    recall = intersect/len(ref)\n",
    "    precision = intersect/len(res)\n",
    "    f1 = 2*recall*precision/(recall+precision)\n",
    "\n",
    "    return(precision, recall, f1)\n",
    "    \n",
    "ref = [1,2]\n",
    "res = [1,2,3]\n",
    "print(manual_pr_rec_f1(ref, res))\n",
    "\n",
    "ref = [1,2,4]\n",
    "res = [1,2]\n",
    "print(manual_pr_rec_f1(ref,res))\n",
    "\n",
    "ref = [1,3,5,6]\n",
    "res = [1,2,3,4,5]\n",
    "print(manual_pr_rec_f1 (ref, res))"
   ]
  },
  {
   "cell_type": "markdown",
   "metadata": {},
   "source": [
    "### Calculating precision, recall and fscore using the True Positives, False Positives and False Negatives method"
   ]
  },
  {
   "cell_type": "code",
   "execution_count": 164,
   "metadata": {},
   "outputs": [
    {
     "name": "stdout",
     "output_type": "stream",
     "text": [
      "true positives = 2, false positives = 1, false negatives = 0\n",
      "(0.6666666666666666, 1.0, 0.8)\n",
      "true positives = 2, false positives = 0, false negatives = 1\n",
      "(1.0, 0.6666666666666666, 0.8)\n",
      "true positives = 3, false positives = 2, false negatives = 1\n",
      "(0.6, 0.75, 0.6666666666666665)\n"
     ]
    }
   ],
   "source": [
    "def prf_tp_fp_fn(ref, res):\n",
    "    \n",
    "    tp = len(set(ref).intersection(set(res)))\n",
    "    \n",
    "    fp = 0\n",
    "    fn = 0\n",
    "    \n",
    "    for i in ref:\n",
    "        if i not in res:\n",
    "            fn+=1\n",
    "    \n",
    "    for i in res:\n",
    "        if i not in ref:\n",
    "            fp+=1\n",
    "    \n",
    "    print('true positives = %d, false positives = %d, false negatives = %d'%(tp, fp, fn))\n",
    "\n",
    "    recall = tp/(tp+fn)\n",
    "    precision = tp/(tp+fp)\n",
    "    f1 = 2*recall*precision/(recall+precision)\n",
    "\n",
    "    return(precision, recall, f1)\n",
    "\n",
    "ref = [1,2]\n",
    "res = [1,2,3]\n",
    "print(prf_tp_fp_fn(ref, res))\n",
    "\n",
    "ref = [1,2,4]\n",
    "res = [1,2]\n",
    "print(prf_tp_fp_fn(ref,res))\n",
    "\n",
    "ref = [1,3,5,6]\n",
    "res = [1,2,3,4,5]\n",
    "print(prf_tp_fp_fn (ref, res))\n"
   ]
  },
  {
   "cell_type": "markdown",
   "metadata": {},
   "source": [
    "### Using NLTK"
   ]
  },
  {
   "cell_type": "code",
   "execution_count": 165,
   "metadata": {},
   "outputs": [
    {
     "name": "stdout",
     "output_type": "stream",
     "text": [
      "0.6 0.75\n"
     ]
    }
   ],
   "source": [
    "from nltk.metrics import precision, recall\n",
    "ref = [1,3,5,6]\n",
    "res = [1,2,3,4,5]\n",
    "print(precision(set(ref), set(res)), recall(set(ref), set(res))) # must convert lists to sets"
   ]
  },
  {
   "cell_type": "markdown",
   "metadata": {},
   "source": [
    "### Using sklearn"
   ]
  },
  {
   "cell_type": "code",
   "execution_count": 166,
   "metadata": {},
   "outputs": [
    {
     "name": "stdout",
     "output_type": "stream",
     "text": [
      "[False, True, False, True, False, True, True, True, False, True]\n",
      "[False, True, True, True, True, True, False, True, True, False]\n",
      "0.571428571429 0.666666666667\n"
     ]
    }
   ],
   "source": [
    "from sklearn.metrics import precision_score, recall_score\n",
    "\n",
    "ref = [1,3,5,6,7,9]\n",
    "res = [1,2,3,4,5,7,8]\n",
    "\n",
    "# Lists of length the same as the maximum value in the ref/res\n",
    "# Every index in the arrays is true/false (or 0/1) \n",
    "# True means that the document whose id is the index is relevant\n",
    "ref_binary = [i in ref for i in range(10)] \n",
    "res_binary = [i in res for i in range(10)]\n",
    "print(ref_binary, res_binary, sep='\\n')\n",
    "print(precision_score(ref_binary, res_binary), recall_score(ref_binary, res_binary))"
   ]
  },
  {
   "cell_type": "markdown",
   "metadata": {},
   "source": [
    "### Calculating average precision and MAP using ml_metrics"
   ]
  },
  {
   "cell_type": "code",
   "execution_count": 167,
   "metadata": {},
   "outputs": [
    {
     "name": "stdout",
     "output_type": "stream",
     "text": [
      "0.9166666666666666\n",
      "0.6388888888888888\n",
      "0.777777777778\n"
     ]
    }
   ],
   "source": [
    "# Must install ml_metrics through pip/easy_install/conda (from terminal/anaconda prompt)\n",
    "# These links can help\n",
    "# https://github.com/benhamner/Metrics\n",
    "# https://anaconda.org/chdoig/ml_metrics\n",
    "\n",
    "from ml_metrics import apk, mapk \n",
    "\n",
    "# apk(ref, res, k), calculates average precision @K between reference and result\n",
    "# To get the total average precision, set K to length of results\n",
    "\n",
    "ref1 = [1,2,3]\n",
    "res1 = [1,2,4,3]\n",
    "print(apk(ref1,res1, len(res1))) \n",
    "\n",
    "ref2 = [1,2,3]\n",
    "res2 = [4,1,2,3]\n",
    "print(apk(ref2,res2, len(res2)))\n",
    "\n",
    "refs = [ref1, ref2]\n",
    "results = [res1, res2]\n",
    "\n",
    "print(mapk(refs, results, max([len(res) for res in results]))) # set K to maximum length of any of the results"
   ]
  }
 ],
 "metadata": {
  "kernelspec": {
   "display_name": "Python 3",
   "language": "python",
   "name": "python3"
  },
  "language_info": {
   "codemirror_mode": {
    "name": "ipython",
    "version": 3
   },
   "file_extension": ".py",
   "mimetype": "text/x-python",
   "name": "python",
   "nbconvert_exporter": "python",
   "pygments_lexer": "ipython3",
   "version": "3.6.1"
  }
 },
 "nbformat": 4,
 "nbformat_minor": 1
}
