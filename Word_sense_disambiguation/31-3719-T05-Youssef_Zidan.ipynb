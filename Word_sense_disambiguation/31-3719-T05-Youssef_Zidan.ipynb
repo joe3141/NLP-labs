{
 "cells": [
  {
   "cell_type": "code",
   "execution_count": 1,
   "metadata": {},
   "outputs": [
    {
     "data": {
      "text/plain": [
       "[SensevalInstance(word='hard-a', position=20, context=[('``', '``'), ('he', 'PRP'), ('may', 'MD'), ('lose', 'VB'), ('all', 'DT'), ('popular', 'JJ'), ('support', 'NN'), (',', ','), ('but', 'CC'), ('someone', 'NN'), ('has', 'VBZ'), ('to', 'TO'), ('kill', 'VB'), ('him', 'PRP'), ('to', 'TO'), ('defeat', 'VB'), ('him', 'PRP'), ('and', 'CC'), ('that', 'DT'), (\"'s\", 'VBZ'), ('hard', 'JJ'), ('to', 'TO'), ('do', 'VB'), ('.', '.'), (\"''\", \"''\")], senses=('HARD1',)), SensevalInstance(word='hard-a', position=10, context=[('clever', 'NNP'), ('white', 'NNP'), ('house', 'NNP'), ('``', '``'), ('spin', 'VB'), ('doctors', 'NNS'), (\"''\", \"''\"), ('are', 'VBP'), ('having', 'VBG'), ('a', 'DT'), ('hard', 'JJ'), ('time', 'NN'), ('helping', 'VBG'), ('president', 'NNP'), ('bush', 'NNP'), ('explain', 'VB'), ('away', 'RB'), ('the', 'DT'), ('economic', 'JJ'), ('bashing', 'NN'), ('that', 'IN'), ('low-and', 'JJ'), ('middle-income', 'JJ'), ('workers', 'NNS'), ('are', 'VBP'), ('taking', 'VBG'), ('these', 'DT'), ('days', 'NNS'), ('.', '.')], senses=('HARD1',)), ...]"
      ]
     },
     "execution_count": 1,
     "metadata": {},
     "output_type": "execute_result"
    }
   ],
   "source": [
    "# Loading the instances\n",
    "\n",
    "from nltk.corpus import senseval\n",
    "from nltk.corpus import stopwords\n",
    "\n",
    "from collections import defaultdict\n",
    "\n",
    "instances = senseval.instances('hard.pos')\n",
    "\n",
    "instances\n"
   ]
  },
  {
   "cell_type": "code",
   "execution_count": 2,
   "metadata": {
    "collapsed": true
   },
   "outputs": [],
   "source": [
    "# Hashing senses with words\n",
    "\n",
    "hard_senses = defaultdict(set)\n",
    "\n",
    "for i in instances:\n",
    "    hard_senses[i.senses[0]] = hard_senses[i.senses[0]].union(set([w[0].lower() for w in i.context]))\n",
    "    \n"
   ]
  },
  {
   "cell_type": "code",
   "execution_count": 3,
   "metadata": {
    "collapsed": true
   },
   "outputs": [],
   "source": [
    "# Removing stop words. (No need to remove punctuation marks since they won't intersect anyway)\n",
    "stop_words = set(stopwords.words('english'))\n",
    "\n",
    "for i in hard_senses:\n",
    "    hard_senses[i] = hard_senses[i] - stop_words"
   ]
  },
  {
   "cell_type": "code",
   "execution_count": 4,
   "metadata": {},
   "outputs": [
    {
     "name": "stdout",
     "output_type": "stream",
     "text": [
      "4\n",
      "4\n",
      "3\n",
      "(['HARD1', 'HARD2'], 4)\n",
      "5\n",
      "5\n",
      "3\n",
      "(['HARD1', 'HARD2'], 5)\n",
      "4\n",
      "3\n",
      "4\n",
      "(['HARD1', 'HARD3'], 4)\n"
     ]
    }
   ],
   "source": [
    "s1 = \"This job is a very hard and difficult task\".lower()\n",
    "s2 = \"He succeeded after a lot of physically hard work\".lower()\n",
    "s3 = \"He is carrying a hard rock and some equipment\".lower()\n",
    "\n",
    "def wsd(s):\n",
    "    max_length = -1\n",
    "    sense_res  = []\n",
    "    \n",
    "    for i in hard_senses:\n",
    "        c_len = len(set(s.split()).intersection(hard_senses[i]))\n",
    "        print(c_len)\n",
    "        if c_len >= max_length:\n",
    "            max_length = c_len\n",
    "            sense_res.append(i)\n",
    "    return sense_res, max_length\n",
    "\n",
    "print(wsd(s1))\n",
    "print(wsd(s2))\n",
    "print(wsd(s3))"
   ]
  },
  {
   "cell_type": "code",
   "execution_count": null,
   "metadata": {
    "collapsed": true
   },
   "outputs": [],
   "source": []
  }
 ],
 "metadata": {
  "kernelspec": {
   "display_name": "Python 3",
   "language": "python",
   "name": "python3"
  },
  "language_info": {
   "codemirror_mode": {
    "name": "ipython",
    "version": 3
   },
   "file_extension": ".py",
   "mimetype": "text/x-python",
   "name": "python",
   "nbconvert_exporter": "python",
   "pygments_lexer": "ipython3",
   "version": "3.6.1"
  }
 },
 "nbformat": 4,
 "nbformat_minor": 2
}
