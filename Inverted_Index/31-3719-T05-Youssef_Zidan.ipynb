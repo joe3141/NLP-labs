{
 "cells": [
  {
   "cell_type": "markdown",
   "metadata": {},
   "source": [
    "Imports:"
   ]
  },
  {
   "cell_type": "code",
   "execution_count": 23,
   "metadata": {
    "collapsed": true
   },
   "outputs": [],
   "source": [
    "import os\n",
    "import sys\n",
    "from nltk import word_tokenize\n",
    "from nltk.util import ngrams\n"
   ]
  },
  {
   "cell_type": "markdown",
   "metadata": {},
   "source": [
    "Index creation function."
   ]
  },
  {
   "cell_type": "code",
   "execution_count": 24,
   "metadata": {
    "collapsed": true
   },
   "outputs": [],
   "source": [
    "def create_index(n):\n",
    "\tbigram_index = {} # (first_word, second_word) => list(docs)\n",
    "\n",
    "\tfor root, dirs, files in os.walk(\"single-docs\"):\n",
    "\t\tfor file in files[:n]:\n",
    "\t\t\twith open(os.path.join(root, file), \"r\") as f:\n",
    "\t\t\t\ttokens = word_tokenize(f.read().lower())\n",
    "\t\t\t\tbigrams = ngrams(tokens, 2)\n",
    "\n",
    "\t\t\t\tfor bigram in bigrams:\n",
    "\t\t\t\t\tif not bigram in bigram_index:\n",
    "\t\t\t\t\t\tbigram_index[bigram] = []\n",
    "\t\t\t\t\tbigram_index[bigram].append(file)\n",
    "\n",
    "\treturn bigram_index"
   ]
  },
  {
   "cell_type": "markdown",
   "metadata": {},
   "source": [
    "Creating the index."
   ]
  },
  {
   "cell_type": "code",
   "execution_count": 25,
   "metadata": {},
   "outputs": [
    {
     "name": "stdout",
     "output_type": "stream",
     "text": [
      "5000\n"
     ]
    }
   ],
   "source": [
    "num_of_files = input() # 5000\n",
    "assert(int(num_of_files)) # Make sure it's a number.\n",
    "index = create_index(int(num_of_files))"
   ]
  },
  {
   "cell_type": "markdown",
   "metadata": {},
   "source": [
    "Querying the bigram index."
   ]
  },
  {
   "cell_type": "code",
   "execution_count": 26,
   "metadata": {},
   "outputs": [],
   "source": [
    "# query = tuple(input().lower() for i in range(2))\n",
    "q1 = (\"american\", \"football\")\n",
    "q2 = (\"northern\", \"hemisphere\")"
   ]
  },
  {
   "cell_type": "markdown",
   "metadata": {},
   "source": [
    "Outputting results:"
   ]
  },
  {
   "cell_type": "code",
   "execution_count": 35,
   "metadata": {},
   "outputs": [
    {
     "name": "stdout",
     "output_type": "stream",
     "text": [
      "Matched with 24 hits. Printing all matching docs...\n",
      "\n",
      "sw_539231.txt\n",
      "sw_547297.txt\n",
      "sw_394329.txt\n",
      "sw_342719.txt\n",
      "sw_314613.txt\n",
      "sw_144632.txt\n",
      "sw_260121.txt\n",
      "sw_286564.txt\n",
      "sw_260166.txt\n",
      "sw_452201.txt\n",
      "sw_463538.txt\n",
      "sw_59937.txt\n",
      "sw_416158.txt\n",
      "sw_408887.txt\n",
      "sw_8793.txt\n",
      "sw_8793.txt\n",
      "sw_8793.txt\n",
      "sw_8793.txt\n",
      "sw_8793.txt\n",
      "sw_8793.txt\n",
      "sw_8793.txt\n",
      "sw_8793.txt\n",
      "sw_247878.txt\n",
      "sw_500745.txt\n",
      "\n",
      "Next trial\n",
      "\n",
      "Matched with 6 hits. Printing all matching docs...\n",
      "\n",
      "sw_26439.txt\n",
      "sw_352805.txt\n",
      "sw_62823.txt\n",
      "sw_419209.txt\n",
      "sw_67762.txt\n",
      "sw_303507.txt\n"
     ]
    }
   ],
   "source": [
    "def query(q, index):\n",
    "    if q in index:\n",
    "        result = index[q]\n",
    "        print(\"Matched with %d hits. Printing all matching docs...\\n\" % len(result))\n",
    "        for f in result: # Print all matching docs\n",
    "            print(f)\n",
    "    else:\n",
    "        print(\"Not found.\")\n",
    "\n",
    "query(q1, index)\n",
    "print(\"\\nNext trial\\n\")\n",
    "query(q2, index)"
   ]
  }
 ],
 "metadata": {
  "kernelspec": {
   "display_name": "Python 3",
   "language": "python",
   "name": "python3"
  },
  "language_info": {
   "codemirror_mode": {
    "name": "ipython",
    "version": 3
   },
   "file_extension": ".py",
   "mimetype": "text/x-python",
   "name": "python",
   "nbconvert_exporter": "python",
   "pygments_lexer": "ipython3",
   "version": "3.6.1"
  }
 },
 "nbformat": 4,
 "nbformat_minor": 2
}
